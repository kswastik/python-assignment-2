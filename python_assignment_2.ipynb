{
  "nbformat": 4,
  "nbformat_minor": 0,
  "metadata": {
    "colab": {
      "name": "python_assignment_2.ipynb",
      "provenance": []
    },
    "kernelspec": {
      "name": "python3",
      "display_name": "Python 3"
    },
    "language_info": {
      "name": "python"
    }
  },
  "cells": [
    {
      "cell_type": "code",
      "metadata": {
        "colab": {
          "base_uri": "https://localhost:8080/"
        },
        "id": "hX9kRljutm9W",
        "outputId": "2b518d76-9df1-4848-866a-6ad16996c275"
      },
      "source": [
        "for i in range(6):\n",
        "  for j in range(i):\n",
        "    print('*',end=\"\")\n",
        "  print()\n",
        "for i in range(4,0,-1):\n",
        "  for j in range(i):\n",
        "    print(\"*\",end=\"\")\n",
        "  print()"
      ],
      "execution_count": 27,
      "outputs": [
        {
          "output_type": "stream",
          "text": [
            "\n",
            "*\n",
            "**\n",
            "***\n",
            "****\n",
            "*****\n",
            "****\n",
            "***\n",
            "**\n",
            "*\n"
          ],
          "name": "stdout"
        }
      ]
    },
    {
      "cell_type": "code",
      "metadata": {
        "colab": {
          "base_uri": "https://localhost:8080/"
        },
        "id": "d6mNevPGuDuO",
        "outputId": "fbe5df4b-f02f-4d46-d115-6aadf0ea2b09"
      },
      "source": [
        "a = input(\"please enter a word: \")\n",
        "print(\"reverse of the entered word is:\")\n",
        "print(a[::-1])"
      ],
      "execution_count": 29,
      "outputs": [
        {
          "output_type": "stream",
          "text": [
            "please enter a word: ineuron\n",
            "reverse of the entered word is:\n",
            "norueni\n"
          ],
          "name": "stdout"
        }
      ]
    }
  ]
}